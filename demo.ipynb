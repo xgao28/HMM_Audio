{
 "cells": [
  {
   "cell_type": "code",
   "execution_count": 4,
   "metadata": {},
   "outputs": [],
   "source": [
    "from hmmaudio.utils import load_all_data, predict_label, train_hmm\n",
    "from hmmaudio.eval import evaluate_models\n",
    "import numpy as np"
   ]
  },
  {
   "cell_type": "markdown",
   "metadata": {},
   "source": [
    "# HMMAudio Demo\n",
    "\n",
    "This notebook demonstrates how to train and evaluate Hidden Markov Models for audio emotion classification using diagonal covariance matrices."
   ]
  },
  {
   "cell_type": "markdown",
   "metadata": {},
   "source": [
    "## Quick Start\n",
    "\n",
    "With hmmaudio.application, the code is simple and straightforward. You can train a model with just a few lines of code:"
   ]
  },
  {
   "cell_type": "code",
   "execution_count": 29,
   "metadata": {},
   "outputs": [
    {
     "name": "stdout",
     "output_type": "stream",
     "text": [
      "Extracting audio features...\n"
     ]
    },
    {
     "name": "stderr",
     "output_type": "stream",
     "text": [
      "Processing Happy: 100%|██████████| 10/10 [00:00<00:00, 162.56it/s]\n"
     ]
    },
    {
     "name": "stdout",
     "output_type": "stream",
     "text": [
      "Happy: Loaded 10 files\n"
     ]
    },
    {
     "name": "stderr",
     "output_type": "stream",
     "text": [
      "Processing Sad: 100%|██████████| 10/10 [00:00<00:00, 219.21it/s]\n"
     ]
    },
    {
     "name": "stdout",
     "output_type": "stream",
     "text": [
      "Sad: Loaded 10 files\n"
     ]
    },
    {
     "name": "stderr",
     "output_type": "stream",
     "text": [
      "Processing Fear: 100%|██████████| 10/10 [00:00<00:00, 217.03it/s]\n"
     ]
    },
    {
     "name": "stdout",
     "output_type": "stream",
     "text": [
      "Fear: Loaded 10 files\n"
     ]
    },
    {
     "name": "stderr",
     "output_type": "stream",
     "text": [
      "Processing Neutral: 100%|██████████| 10/10 [00:00<00:00, 112.11it/s]\n"
     ]
    },
    {
     "name": "stdout",
     "output_type": "stream",
     "text": [
      "Neutral: Loaded 10 files\n"
     ]
    },
    {
     "name": "stderr",
     "output_type": "stream",
     "text": [
      "Processing Anger: 100%|██████████| 10/10 [00:00<00:00, 212.96it/s]\n"
     ]
    },
    {
     "name": "stdout",
     "output_type": "stream",
     "text": [
      "Anger: Loaded 10 files\n"
     ]
    },
    {
     "name": "stderr",
     "output_type": "stream",
     "text": [
      "Processing Disgust: 100%|██████████| 10/10 [00:00<00:00, 206.30it/s]\n"
     ]
    },
    {
     "name": "stdout",
     "output_type": "stream",
     "text": [
      "Disgust: Loaded 10 files\n",
      "Audio features Extracted.\n",
      "Training HMMs...\n",
      "Training HMM for Happy\n",
      "Iteration 1/10\n"
     ]
    },
    {
     "name": "stderr",
     "output_type": "stream",
     "text": [
      "Baum-Welch Training Progress: 100%|██████████| 10/10 [00:00<00:00, 28.77it/s]\n"
     ]
    },
    {
     "name": "stdout",
     "output_type": "stream",
     "text": [
      "Iteration 2/10\n"
     ]
    },
    {
     "name": "stderr",
     "output_type": "stream",
     "text": [
      "Baum-Welch Training Progress: 100%|██████████| 10/10 [00:00<00:00, 28.53it/s]\n"
     ]
    },
    {
     "name": "stdout",
     "output_type": "stream",
     "text": [
      "Iteration 3/10\n"
     ]
    },
    {
     "name": "stderr",
     "output_type": "stream",
     "text": [
      "Baum-Welch Training Progress: 100%|██████████| 10/10 [00:00<00:00, 25.10it/s]\n"
     ]
    },
    {
     "name": "stdout",
     "output_type": "stream",
     "text": [
      "Iteration 4/10\n"
     ]
    },
    {
     "name": "stderr",
     "output_type": "stream",
     "text": [
      "Baum-Welch Training Progress: 100%|██████████| 10/10 [00:00<00:00, 26.59it/s]\n"
     ]
    },
    {
     "name": "stdout",
     "output_type": "stream",
     "text": [
      "Iteration 5/10\n"
     ]
    },
    {
     "name": "stderr",
     "output_type": "stream",
     "text": [
      "Baum-Welch Training Progress: 100%|██████████| 10/10 [00:00<00:00, 27.82it/s]\n"
     ]
    },
    {
     "name": "stdout",
     "output_type": "stream",
     "text": [
      "Iteration 6/10\n"
     ]
    },
    {
     "name": "stderr",
     "output_type": "stream",
     "text": [
      "Baum-Welch Training Progress: 100%|██████████| 10/10 [00:00<00:00, 25.40it/s]\n"
     ]
    },
    {
     "name": "stdout",
     "output_type": "stream",
     "text": [
      "Iteration 7/10\n"
     ]
    },
    {
     "name": "stderr",
     "output_type": "stream",
     "text": [
      "Baum-Welch Training Progress: 100%|██████████| 10/10 [00:00<00:00, 28.00it/s]\n"
     ]
    },
    {
     "name": "stdout",
     "output_type": "stream",
     "text": [
      "Iteration 8/10\n"
     ]
    },
    {
     "name": "stderr",
     "output_type": "stream",
     "text": [
      "Baum-Welch Training Progress: 100%|██████████| 10/10 [00:00<00:00, 28.08it/s]\n"
     ]
    },
    {
     "name": "stdout",
     "output_type": "stream",
     "text": [
      "Iteration 9/10\n"
     ]
    },
    {
     "name": "stderr",
     "output_type": "stream",
     "text": [
      "Baum-Welch Training Progress: 100%|██████████| 10/10 [00:00<00:00, 26.01it/s]\n"
     ]
    },
    {
     "name": "stdout",
     "output_type": "stream",
     "text": [
      "Iteration 10/10\n"
     ]
    },
    {
     "name": "stderr",
     "output_type": "stream",
     "text": [
      "Baum-Welch Training Progress: 100%|██████████| 10/10 [00:00<00:00, 27.72it/s]\n"
     ]
    },
    {
     "name": "stdout",
     "output_type": "stream",
     "text": [
      "Training HMM for Sad\n",
      "Iteration 1/10\n"
     ]
    },
    {
     "name": "stderr",
     "output_type": "stream",
     "text": [
      "Baum-Welch Training Progress: 100%|██████████| 10/10 [00:00<00:00, 29.70it/s]\n"
     ]
    },
    {
     "name": "stdout",
     "output_type": "stream",
     "text": [
      "Iteration 2/10\n"
     ]
    },
    {
     "name": "stderr",
     "output_type": "stream",
     "text": [
      "Baum-Welch Training Progress: 100%|██████████| 10/10 [00:00<00:00, 29.84it/s]\n"
     ]
    },
    {
     "name": "stdout",
     "output_type": "stream",
     "text": [
      "Iteration 3/10\n"
     ]
    },
    {
     "name": "stderr",
     "output_type": "stream",
     "text": [
      "Baum-Welch Training Progress: 100%|██████████| 10/10 [00:00<00:00, 26.62it/s]\n"
     ]
    },
    {
     "name": "stdout",
     "output_type": "stream",
     "text": [
      "Iteration 4/10\n"
     ]
    },
    {
     "name": "stderr",
     "output_type": "stream",
     "text": [
      "Baum-Welch Training Progress: 100%|██████████| 10/10 [00:00<00:00, 29.75it/s]\n"
     ]
    },
    {
     "name": "stdout",
     "output_type": "stream",
     "text": [
      "Iteration 5/10\n"
     ]
    },
    {
     "name": "stderr",
     "output_type": "stream",
     "text": [
      "Baum-Welch Training Progress: 100%|██████████| 10/10 [00:00<00:00, 28.53it/s]\n"
     ]
    },
    {
     "name": "stdout",
     "output_type": "stream",
     "text": [
      "Iteration 6/10\n"
     ]
    },
    {
     "name": "stderr",
     "output_type": "stream",
     "text": [
      "Baum-Welch Training Progress: 100%|██████████| 10/10 [00:00<00:00, 26.35it/s]\n"
     ]
    },
    {
     "name": "stdout",
     "output_type": "stream",
     "text": [
      "Iteration 7/10\n"
     ]
    },
    {
     "name": "stderr",
     "output_type": "stream",
     "text": [
      "Baum-Welch Training Progress: 100%|██████████| 10/10 [00:00<00:00, 28.15it/s]\n"
     ]
    },
    {
     "name": "stdout",
     "output_type": "stream",
     "text": [
      "Iteration 8/10\n"
     ]
    },
    {
     "name": "stderr",
     "output_type": "stream",
     "text": [
      "Baum-Welch Training Progress: 100%|██████████| 10/10 [00:00<00:00, 28.46it/s]\n"
     ]
    },
    {
     "name": "stdout",
     "output_type": "stream",
     "text": [
      "Iteration 9/10\n"
     ]
    },
    {
     "name": "stderr",
     "output_type": "stream",
     "text": [
      "Baum-Welch Training Progress: 100%|██████████| 10/10 [00:00<00:00, 25.55it/s]\n"
     ]
    },
    {
     "name": "stdout",
     "output_type": "stream",
     "text": [
      "Iteration 10/10\n"
     ]
    },
    {
     "name": "stderr",
     "output_type": "stream",
     "text": [
      "Baum-Welch Training Progress: 100%|██████████| 10/10 [00:00<00:00, 28.44it/s]\n"
     ]
    },
    {
     "name": "stdout",
     "output_type": "stream",
     "text": [
      "Training HMM for Fear\n",
      "Iteration 1/10\n"
     ]
    },
    {
     "name": "stderr",
     "output_type": "stream",
     "text": [
      "Baum-Welch Training Progress: 100%|██████████| 10/10 [00:00<00:00, 29.16it/s]\n"
     ]
    },
    {
     "name": "stdout",
     "output_type": "stream",
     "text": [
      "Iteration 2/10\n"
     ]
    },
    {
     "name": "stderr",
     "output_type": "stream",
     "text": [
      "Baum-Welch Training Progress: 100%|██████████| 10/10 [00:00<00:00, 29.10it/s]\n"
     ]
    },
    {
     "name": "stdout",
     "output_type": "stream",
     "text": [
      "Iteration 3/10\n"
     ]
    },
    {
     "name": "stderr",
     "output_type": "stream",
     "text": [
      "Baum-Welch Training Progress: 100%|██████████| 10/10 [00:00<00:00, 25.56it/s]\n"
     ]
    },
    {
     "name": "stdout",
     "output_type": "stream",
     "text": [
      "Iteration 4/10\n"
     ]
    },
    {
     "name": "stderr",
     "output_type": "stream",
     "text": [
      "Baum-Welch Training Progress: 100%|██████████| 10/10 [00:00<00:00, 29.16it/s]\n"
     ]
    },
    {
     "name": "stdout",
     "output_type": "stream",
     "text": [
      "Iteration 5/10\n"
     ]
    },
    {
     "name": "stderr",
     "output_type": "stream",
     "text": [
      "Baum-Welch Training Progress: 100%|██████████| 10/10 [00:00<00:00, 29.41it/s]\n"
     ]
    },
    {
     "name": "stdout",
     "output_type": "stream",
     "text": [
      "Iteration 6/10\n"
     ]
    },
    {
     "name": "stderr",
     "output_type": "stream",
     "text": [
      "Baum-Welch Training Progress: 100%|██████████| 10/10 [00:00<00:00, 30.11it/s]\n"
     ]
    },
    {
     "name": "stdout",
     "output_type": "stream",
     "text": [
      "Iteration 7/10\n"
     ]
    },
    {
     "name": "stderr",
     "output_type": "stream",
     "text": [
      "Baum-Welch Training Progress: 100%|██████████| 10/10 [00:00<00:00, 29.73it/s]\n"
     ]
    },
    {
     "name": "stdout",
     "output_type": "stream",
     "text": [
      "Iteration 8/10\n"
     ]
    },
    {
     "name": "stderr",
     "output_type": "stream",
     "text": [
      "Baum-Welch Training Progress: 100%|██████████| 10/10 [00:00<00:00, 26.37it/s]\n"
     ]
    },
    {
     "name": "stdout",
     "output_type": "stream",
     "text": [
      "Iteration 9/10\n"
     ]
    },
    {
     "name": "stderr",
     "output_type": "stream",
     "text": [
      "Baum-Welch Training Progress: 100%|██████████| 10/10 [00:00<00:00, 30.11it/s]\n"
     ]
    },
    {
     "name": "stdout",
     "output_type": "stream",
     "text": [
      "Iteration 10/10\n"
     ]
    },
    {
     "name": "stderr",
     "output_type": "stream",
     "text": [
      "Baum-Welch Training Progress: 100%|██████████| 10/10 [00:00<00:00, 29.14it/s]\n"
     ]
    },
    {
     "name": "stdout",
     "output_type": "stream",
     "text": [
      "Training HMM for Neutral\n",
      "Iteration 1/10\n"
     ]
    },
    {
     "name": "stderr",
     "output_type": "stream",
     "text": [
      "Baum-Welch Training Progress: 100%|██████████| 10/10 [00:00<00:00, 28.43it/s]\n"
     ]
    },
    {
     "name": "stdout",
     "output_type": "stream",
     "text": [
      "Iteration 2/10\n"
     ]
    },
    {
     "name": "stderr",
     "output_type": "stream",
     "text": [
      "Baum-Welch Training Progress: 100%|██████████| 10/10 [00:00<00:00, 25.13it/s]\n"
     ]
    },
    {
     "name": "stdout",
     "output_type": "stream",
     "text": [
      "Iteration 3/10\n"
     ]
    },
    {
     "name": "stderr",
     "output_type": "stream",
     "text": [
      "Baum-Welch Training Progress: 100%|██████████| 10/10 [00:00<00:00, 28.43it/s]\n"
     ]
    },
    {
     "name": "stdout",
     "output_type": "stream",
     "text": [
      "Iteration 4/10\n"
     ]
    },
    {
     "name": "stderr",
     "output_type": "stream",
     "text": [
      "Baum-Welch Training Progress: 100%|██████████| 10/10 [00:00<00:00, 28.13it/s]\n"
     ]
    },
    {
     "name": "stdout",
     "output_type": "stream",
     "text": [
      "Iteration 5/10\n"
     ]
    },
    {
     "name": "stderr",
     "output_type": "stream",
     "text": [
      "Baum-Welch Training Progress: 100%|██████████| 10/10 [00:00<00:00, 28.33it/s]\n"
     ]
    },
    {
     "name": "stdout",
     "output_type": "stream",
     "text": [
      "Iteration 6/10\n"
     ]
    },
    {
     "name": "stderr",
     "output_type": "stream",
     "text": [
      "Baum-Welch Training Progress: 100%|██████████| 10/10 [00:00<00:00, 25.18it/s]\n"
     ]
    },
    {
     "name": "stdout",
     "output_type": "stream",
     "text": [
      "Iteration 7/10\n"
     ]
    },
    {
     "name": "stderr",
     "output_type": "stream",
     "text": [
      "Baum-Welch Training Progress: 100%|██████████| 10/10 [00:00<00:00, 28.02it/s]\n"
     ]
    },
    {
     "name": "stdout",
     "output_type": "stream",
     "text": [
      "Iteration 8/10\n"
     ]
    },
    {
     "name": "stderr",
     "output_type": "stream",
     "text": [
      "Baum-Welch Training Progress: 100%|██████████| 10/10 [00:00<00:00, 27.74it/s]\n"
     ]
    },
    {
     "name": "stdout",
     "output_type": "stream",
     "text": [
      "Iteration 9/10\n"
     ]
    },
    {
     "name": "stderr",
     "output_type": "stream",
     "text": [
      "Baum-Welch Training Progress: 100%|██████████| 10/10 [00:00<00:00, 23.20it/s]\n"
     ]
    },
    {
     "name": "stdout",
     "output_type": "stream",
     "text": [
      "Iteration 10/10\n"
     ]
    },
    {
     "name": "stderr",
     "output_type": "stream",
     "text": [
      "Baum-Welch Training Progress: 100%|██████████| 10/10 [00:00<00:00, 26.98it/s]\n"
     ]
    },
    {
     "name": "stdout",
     "output_type": "stream",
     "text": [
      "Training HMM for Anger\n",
      "Iteration 1/10\n"
     ]
    },
    {
     "name": "stderr",
     "output_type": "stream",
     "text": [
      "Baum-Welch Training Progress: 100%|██████████| 10/10 [00:00<00:00, 28.46it/s]\n"
     ]
    },
    {
     "name": "stdout",
     "output_type": "stream",
     "text": [
      "Iteration 2/10\n"
     ]
    },
    {
     "name": "stderr",
     "output_type": "stream",
     "text": [
      "Baum-Welch Training Progress: 100%|██████████| 10/10 [00:00<00:00, 25.49it/s]\n"
     ]
    },
    {
     "name": "stdout",
     "output_type": "stream",
     "text": [
      "Iteration 3/10\n"
     ]
    },
    {
     "name": "stderr",
     "output_type": "stream",
     "text": [
      "Baum-Welch Training Progress: 100%|██████████| 10/10 [00:00<00:00, 27.74it/s]\n"
     ]
    },
    {
     "name": "stdout",
     "output_type": "stream",
     "text": [
      "Iteration 4/10\n"
     ]
    },
    {
     "name": "stderr",
     "output_type": "stream",
     "text": [
      "Baum-Welch Training Progress: 100%|██████████| 10/10 [00:00<00:00, 28.43it/s]\n"
     ]
    },
    {
     "name": "stdout",
     "output_type": "stream",
     "text": [
      "Iteration 5/10\n"
     ]
    },
    {
     "name": "stderr",
     "output_type": "stream",
     "text": [
      "Baum-Welch Training Progress: 100%|██████████| 10/10 [00:00<00:00, 25.69it/s]\n"
     ]
    },
    {
     "name": "stdout",
     "output_type": "stream",
     "text": [
      "Iteration 6/10\n"
     ]
    },
    {
     "name": "stderr",
     "output_type": "stream",
     "text": [
      "Baum-Welch Training Progress: 100%|██████████| 10/10 [00:00<00:00, 29.56it/s]\n"
     ]
    },
    {
     "name": "stdout",
     "output_type": "stream",
     "text": [
      "Iteration 7/10\n"
     ]
    },
    {
     "name": "stderr",
     "output_type": "stream",
     "text": [
      "Baum-Welch Training Progress: 100%|██████████| 10/10 [00:00<00:00, 29.64it/s]\n"
     ]
    },
    {
     "name": "stdout",
     "output_type": "stream",
     "text": [
      "Iteration 8/10\n"
     ]
    },
    {
     "name": "stderr",
     "output_type": "stream",
     "text": [
      "Baum-Welch Training Progress: 100%|██████████| 10/10 [00:00<00:00, 29.31it/s]\n"
     ]
    },
    {
     "name": "stdout",
     "output_type": "stream",
     "text": [
      "Iteration 9/10\n"
     ]
    },
    {
     "name": "stderr",
     "output_type": "stream",
     "text": [
      "Baum-Welch Training Progress: 100%|██████████| 10/10 [00:00<00:00, 25.05it/s]\n"
     ]
    },
    {
     "name": "stdout",
     "output_type": "stream",
     "text": [
      "Iteration 10/10\n"
     ]
    },
    {
     "name": "stderr",
     "output_type": "stream",
     "text": [
      "Baum-Welch Training Progress: 100%|██████████| 10/10 [00:00<00:00, 28.61it/s]\n"
     ]
    },
    {
     "name": "stdout",
     "output_type": "stream",
     "text": [
      "Training HMM for Disgust\n",
      "Iteration 1/10\n"
     ]
    },
    {
     "name": "stderr",
     "output_type": "stream",
     "text": [
      "Baum-Welch Training Progress: 100%|██████████| 10/10 [00:00<00:00, 28.58it/s]\n"
     ]
    },
    {
     "name": "stdout",
     "output_type": "stream",
     "text": [
      "Iteration 2/10\n"
     ]
    },
    {
     "name": "stderr",
     "output_type": "stream",
     "text": [
      "Baum-Welch Training Progress: 100%|██████████| 10/10 [00:00<00:00, 25.61it/s]\n"
     ]
    },
    {
     "name": "stdout",
     "output_type": "stream",
     "text": [
      "Iteration 3/10\n"
     ]
    },
    {
     "name": "stderr",
     "output_type": "stream",
     "text": [
      "Baum-Welch Training Progress: 100%|██████████| 10/10 [00:00<00:00, 28.76it/s]\n"
     ]
    },
    {
     "name": "stdout",
     "output_type": "stream",
     "text": [
      "Iteration 4/10\n"
     ]
    },
    {
     "name": "stderr",
     "output_type": "stream",
     "text": [
      "Baum-Welch Training Progress: 100%|██████████| 10/10 [00:00<00:00, 28.11it/s]\n"
     ]
    },
    {
     "name": "stdout",
     "output_type": "stream",
     "text": [
      "Iteration 5/10\n"
     ]
    },
    {
     "name": "stderr",
     "output_type": "stream",
     "text": [
      "Baum-Welch Training Progress: 100%|██████████| 10/10 [00:00<00:00, 24.65it/s]\n"
     ]
    },
    {
     "name": "stdout",
     "output_type": "stream",
     "text": [
      "Iteration 6/10\n"
     ]
    },
    {
     "name": "stderr",
     "output_type": "stream",
     "text": [
      "Baum-Welch Training Progress: 100%|██████████| 10/10 [00:00<00:00, 27.97it/s]\n"
     ]
    },
    {
     "name": "stdout",
     "output_type": "stream",
     "text": [
      "Iteration 7/10\n"
     ]
    },
    {
     "name": "stderr",
     "output_type": "stream",
     "text": [
      "Baum-Welch Training Progress: 100%|██████████| 10/10 [00:00<00:00, 27.34it/s]\n"
     ]
    },
    {
     "name": "stdout",
     "output_type": "stream",
     "text": [
      "Iteration 8/10\n"
     ]
    },
    {
     "name": "stderr",
     "output_type": "stream",
     "text": [
      "Baum-Welch Training Progress: 100%|██████████| 10/10 [00:00<00:00, 26.95it/s]\n"
     ]
    },
    {
     "name": "stdout",
     "output_type": "stream",
     "text": [
      "Iteration 9/10\n"
     ]
    },
    {
     "name": "stderr",
     "output_type": "stream",
     "text": [
      "Baum-Welch Training Progress: 100%|██████████| 10/10 [00:00<00:00, 24.69it/s]\n"
     ]
    },
    {
     "name": "stdout",
     "output_type": "stream",
     "text": [
      "Iteration 10/10\n"
     ]
    },
    {
     "name": "stderr",
     "output_type": "stream",
     "text": [
      "Baum-Welch Training Progress: 100%|██████████| 10/10 [00:00<00:00, 28.69it/s]"
     ]
    },
    {
     "name": "stdout",
     "output_type": "stream",
     "text": [
      "HMMs trained.\n",
      "Trained model with 10 samples per class\n"
     ]
    },
    {
     "name": "stderr",
     "output_type": "stream",
     "text": [
      "\n"
     ]
    }
   ],
   "source": [
    "from hmmaudio.application import EmotionIdentifier\n",
    "\n",
    "train_path = \"data/train\"\n",
    "test_path = \"data/test\"\n",
    "model = EmotionIdentifier()\n",
    "model.train(train_path, limit=10)\n",
    "print(\"Trained model with 10 samples per class\")"
   ]
  },
  {
   "cell_type": "code",
   "execution_count": 27,
   "metadata": {},
   "outputs": [
    {
     "name": "stdout",
     "output_type": "stream",
     "text": [
      "Extracting audio features...\n"
     ]
    },
    {
     "name": "stderr",
     "output_type": "stream",
     "text": [
      "Processing Happy: 100%|██████████| 10/10 [00:00<00:00, 141.57it/s]\n"
     ]
    },
    {
     "name": "stdout",
     "output_type": "stream",
     "text": [
      "Happy: Loaded 10 files\n"
     ]
    },
    {
     "name": "stderr",
     "output_type": "stream",
     "text": [
      "Processing Sad: 100%|██████████| 10/10 [00:00<00:00, 203.37it/s]\n"
     ]
    },
    {
     "name": "stdout",
     "output_type": "stream",
     "text": [
      "Sad: Loaded 10 files\n"
     ]
    },
    {
     "name": "stderr",
     "output_type": "stream",
     "text": [
      "Processing Fear: 100%|██████████| 10/10 [00:00<00:00, 211.08it/s]\n"
     ]
    },
    {
     "name": "stdout",
     "output_type": "stream",
     "text": [
      "Fear: Loaded 10 files\n"
     ]
    },
    {
     "name": "stderr",
     "output_type": "stream",
     "text": [
      "Processing Neutral: 100%|██████████| 10/10 [00:00<00:00, 202.51it/s]\n"
     ]
    },
    {
     "name": "stdout",
     "output_type": "stream",
     "text": [
      "Neutral: Loaded 10 files\n"
     ]
    },
    {
     "name": "stderr",
     "output_type": "stream",
     "text": [
      "Processing Anger: 100%|██████████| 10/10 [00:00<00:00, 127.46it/s]\n"
     ]
    },
    {
     "name": "stdout",
     "output_type": "stream",
     "text": [
      "Anger: Loaded 10 files\n"
     ]
    },
    {
     "name": "stderr",
     "output_type": "stream",
     "text": [
      "Processing Disgust: 100%|██████████| 10/10 [00:00<00:00, 201.33it/s]\n"
     ]
    },
    {
     "name": "stdout",
     "output_type": "stream",
     "text": [
      "Disgust: Loaded 10 files\n",
      "Audio features Extracted.\n",
      "Evaluating HMMs...\n"
     ]
    },
    {
     "name": "stderr",
     "output_type": "stream",
     "text": [
      "Evaluating Happy: 100%|██████████| 10/10 [00:00<00:00, 13.27it/s]\n",
      "Evaluating Sad: 100%|██████████| 10/10 [00:00<00:00, 13.88it/s]\n",
      "Evaluating Fear: 100%|██████████| 10/10 [00:00<00:00, 13.16it/s]\n",
      "Evaluating Neutral: 100%|██████████| 10/10 [00:00<00:00, 13.15it/s]\n",
      "Evaluating Anger: 100%|██████████| 10/10 [00:00<00:00, 12.60it/s]\n",
      "Evaluating Disgust: 100%|██████████| 10/10 [00:00<00:00, 13.73it/s]\n"
     ]
    },
    {
     "name": "stdout",
     "output_type": "stream",
     "text": [
      "Evaluation complete.\n",
      "Extracting audio features...\n"
     ]
    },
    {
     "name": "stderr",
     "output_type": "stream",
     "text": [
      "Processing Happy: 100%|██████████| 10/10 [00:00<00:00, 103.49it/s]\n"
     ]
    },
    {
     "name": "stdout",
     "output_type": "stream",
     "text": [
      "Happy: Loaded 10 files\n"
     ]
    },
    {
     "name": "stderr",
     "output_type": "stream",
     "text": [
      "Processing Sad: 100%|██████████| 10/10 [00:00<00:00, 114.26it/s]\n"
     ]
    },
    {
     "name": "stdout",
     "output_type": "stream",
     "text": [
      "Sad: Loaded 10 files\n"
     ]
    },
    {
     "name": "stderr",
     "output_type": "stream",
     "text": [
      "Processing Fear: 100%|██████████| 10/10 [00:00<00:00, 117.18it/s]\n"
     ]
    },
    {
     "name": "stdout",
     "output_type": "stream",
     "text": [
      "Fear: Loaded 10 files\n"
     ]
    },
    {
     "name": "stderr",
     "output_type": "stream",
     "text": [
      "Processing Neutral: 100%|██████████| 10/10 [00:00<00:00, 123.16it/s]\n"
     ]
    },
    {
     "name": "stdout",
     "output_type": "stream",
     "text": [
      "Neutral: Loaded 10 files\n"
     ]
    },
    {
     "name": "stderr",
     "output_type": "stream",
     "text": [
      "Processing Anger: 100%|██████████| 10/10 [00:00<00:00, 110.53it/s]\n"
     ]
    },
    {
     "name": "stdout",
     "output_type": "stream",
     "text": [
      "Anger: Loaded 10 files\n"
     ]
    },
    {
     "name": "stderr",
     "output_type": "stream",
     "text": [
      "Processing Disgust: 100%|██████████| 10/10 [00:00<00:00, 69.04it/s]\n"
     ]
    },
    {
     "name": "stdout",
     "output_type": "stream",
     "text": [
      "Disgust: Loaded 10 files\n",
      "Audio features Extracted.\n",
      "Evaluating HMMs...\n"
     ]
    },
    {
     "name": "stderr",
     "output_type": "stream",
     "text": [
      "Evaluating Happy: 100%|██████████| 10/10 [00:01<00:00,  9.84it/s]\n",
      "Evaluating Sad: 100%|██████████| 10/10 [00:00<00:00, 10.10it/s]\n",
      "Evaluating Fear: 100%|██████████| 10/10 [00:01<00:00,  9.90it/s]\n",
      "Evaluating Neutral: 100%|██████████| 10/10 [00:00<00:00, 10.25it/s]\n",
      "Evaluating Anger: 100%|██████████| 10/10 [00:01<00:00,  9.67it/s]\n",
      "Evaluating Disgust: 100%|██████████| 10/10 [00:01<00:00,  9.26it/s]"
     ]
    },
    {
     "name": "stdout",
     "output_type": "stream",
     "text": [
      "Evaluation complete.\n",
      "Train accuracy: 0.75\n",
      "Test accuracy: 0.16666666666666666\n",
      "Train confusion matrix:\n",
      "[[10  0  0  0  0  0]\n",
      " [ 0  7  0  0  0  3]\n",
      " [ 1  0  5  0  1  3]\n",
      " [ 0  0  2  5  0  3]\n",
      " [ 0  0  0  0 10  0]\n",
      " [ 1  0  1  0  0  8]]\n",
      "Test confusion matrix:\n",
      "[[ 0  0  0  0 10  0]\n",
      " [ 1  0  0  0  9  0]\n",
      " [ 1  0  0  0  9  0]\n",
      " [ 0  0  0  0 10  0]\n",
      " [ 0  0  0  0 10  0]\n",
      " [ 0  0  0  0 10  0]]\n"
     ]
    },
    {
     "name": "stderr",
     "output_type": "stream",
     "text": [
      "\n"
     ]
    }
   ],
   "source": [
    "train_acc, train_cm = model.evaluate(train_path, limit=10)\n",
    "test_acc, test_cm = model.evaluate(test_path, limit=10)\n",
    "print(f\"Train accuracy: {train_acc}\")\n",
    "print(f\"Test accuracy: {test_acc}\")\n",
    "print(f\"Train confusion matrix:\\n{train_cm}\")\n",
    "print(f\"Test confusion matrix:\\n{test_cm}\")"
   ]
  },
  {
   "cell_type": "markdown",
   "metadata": {},
   "source": [
    "## Break down\n",
    "\n",
    "Here is a breakdown of the pipeline:"
   ]
  },
  {
   "cell_type": "markdown",
   "metadata": {},
   "source": [
    "### Load data"
   ]
  },
  {
   "cell_type": "code",
   "execution_count": 5,
   "metadata": {},
   "outputs": [
    {
     "name": "stdout",
     "output_type": "stream",
     "text": [
      "Loading training data...\n"
     ]
    },
    {
     "name": "stderr",
     "output_type": "stream",
     "text": [
      "Processing Happy: 100%|██████████| 10/10 [00:00<00:00, 59.98it/s]\n"
     ]
    },
    {
     "name": "stdout",
     "output_type": "stream",
     "text": [
      "Happy: Loaded 10 files\n"
     ]
    },
    {
     "name": "stderr",
     "output_type": "stream",
     "text": [
      "Processing Sad: 100%|██████████| 10/10 [00:00<00:00, 122.09it/s]\n"
     ]
    },
    {
     "name": "stdout",
     "output_type": "stream",
     "text": [
      "Sad: Loaded 10 files\n"
     ]
    },
    {
     "name": "stderr",
     "output_type": "stream",
     "text": [
      "Processing Fear: 100%|██████████| 10/10 [00:00<00:00, 119.55it/s]\n"
     ]
    },
    {
     "name": "stdout",
     "output_type": "stream",
     "text": [
      "Fear: Loaded 10 files\n"
     ]
    },
    {
     "name": "stderr",
     "output_type": "stream",
     "text": [
      "Processing Neutral: 100%|██████████| 10/10 [00:00<00:00, 118.37it/s]\n"
     ]
    },
    {
     "name": "stdout",
     "output_type": "stream",
     "text": [
      "Neutral: Loaded 10 files\n"
     ]
    },
    {
     "name": "stderr",
     "output_type": "stream",
     "text": [
      "Processing Anger: 100%|██████████| 10/10 [00:00<00:00, 120.59it/s]\n"
     ]
    },
    {
     "name": "stdout",
     "output_type": "stream",
     "text": [
      "Anger: Loaded 10 files\n"
     ]
    },
    {
     "name": "stderr",
     "output_type": "stream",
     "text": [
      "Processing Disgust: 100%|██████████| 10/10 [00:00<00:00, 121.55it/s]\n"
     ]
    },
    {
     "name": "stdout",
     "output_type": "stream",
     "text": [
      "Disgust: Loaded 10 files\n",
      "\n",
      "Loading test data...\n"
     ]
    },
    {
     "name": "stderr",
     "output_type": "stream",
     "text": [
      "Processing Happy:   0%|          | 0/10 [00:00<?, ?it/s]/Users/xgao/Documents/GitHub/HMMAudio/hmmaudio/features.py:25: WavFileWarning: Chunk (non-data) not understood, skipping it.\n",
      "  sample_rate, audio = wavfile.read(file_path)\n",
      "Processing Happy: 100%|██████████| 10/10 [00:00<00:00, 44.13it/s]\n"
     ]
    },
    {
     "name": "stdout",
     "output_type": "stream",
     "text": [
      "Happy: Loaded 10 files\n"
     ]
    },
    {
     "name": "stderr",
     "output_type": "stream",
     "text": [
      "Processing Sad: 100%|██████████| 10/10 [00:00<00:00, 48.23it/s]\n"
     ]
    },
    {
     "name": "stdout",
     "output_type": "stream",
     "text": [
      "Sad: Loaded 10 files\n"
     ]
    },
    {
     "name": "stderr",
     "output_type": "stream",
     "text": [
      "Processing Fear: 100%|██████████| 10/10 [00:00<00:00, 62.70it/s]\n"
     ]
    },
    {
     "name": "stdout",
     "output_type": "stream",
     "text": [
      "Fear: Loaded 10 files\n"
     ]
    },
    {
     "name": "stderr",
     "output_type": "stream",
     "text": [
      "Processing Neutral: 100%|██████████| 10/10 [00:00<00:00, 59.00it/s]\n"
     ]
    },
    {
     "name": "stdout",
     "output_type": "stream",
     "text": [
      "Neutral: Loaded 10 files\n"
     ]
    },
    {
     "name": "stderr",
     "output_type": "stream",
     "text": [
      "Processing Anger: 100%|██████████| 10/10 [00:00<00:00, 58.93it/s]\n"
     ]
    },
    {
     "name": "stdout",
     "output_type": "stream",
     "text": [
      "Anger: Loaded 10 files\n"
     ]
    },
    {
     "name": "stderr",
     "output_type": "stream",
     "text": [
      "Processing Disgust: 100%|██████████| 10/10 [00:00<00:00, 45.14it/s]"
     ]
    },
    {
     "name": "stdout",
     "output_type": "stream",
     "text": [
      "Disgust: Loaded 10 files\n"
     ]
    },
    {
     "name": "stderr",
     "output_type": "stream",
     "text": [
      "\n"
     ]
    }
   ],
   "source": [
    "# Define paths\n",
    "TRAIN_DATA_PATH = \"./data/train\"\n",
    "TEST_DATA_PATH = \"./data/test\"\n",
    "\n",
    "# Load training and test data\n",
    "print(\"Loading training data...\")\n",
    "train_features, train_files = load_all_data(TRAIN_DATA_PATH, limit=10,              \n",
    "                include_mfcc=True,\n",
    "                include_delta=True,\n",
    "                include_delta2=True,\n",
    "                include_energy=True,\n",
    "                num_cepstral=13,\n",
    "                frame_size=0.025,\n",
    "                frame_stride=0.01)\n",
    "print(\"\\nLoading test data...\")\n",
    "test_features, test_files = load_all_data(TEST_DATA_PATH, limit=10, \n",
    "                include_mfcc=True,\n",
    "                include_delta=True,\n",
    "                include_delta2=True,\n",
    "                include_energy=True,\n",
    "                num_cepstral=13,\n",
    "                frame_size=0.025,\n",
    "                frame_stride=0.01)"
   ]
  },
  {
   "cell_type": "markdown",
   "metadata": {},
   "source": [
    "### Train Continuous HMMs with Diagonal Covariance\n",
    "\n",
    "We'll use diagonal covariance matrices instead of full covariance matrices for faster training."
   ]
  },
  {
   "cell_type": "code",
   "execution_count": 6,
   "metadata": {},
   "outputs": [
    {
     "name": "stdout",
     "output_type": "stream",
     "text": [
      "Training HMM for Happy\n",
      "Iteration 1/10\n"
     ]
    },
    {
     "name": "stderr",
     "output_type": "stream",
     "text": [
      "Baum-Welch Training Progress: 100%|██████████| 10/10 [00:00<00:00, 16.55it/s]\n"
     ]
    },
    {
     "name": "stdout",
     "output_type": "stream",
     "text": [
      "Iteration 2/10\n"
     ]
    },
    {
     "name": "stderr",
     "output_type": "stream",
     "text": [
      "Baum-Welch Training Progress: 100%|██████████| 10/10 [00:00<00:00, 15.19it/s]\n"
     ]
    },
    {
     "name": "stdout",
     "output_type": "stream",
     "text": [
      "Iteration 3/10\n"
     ]
    },
    {
     "name": "stderr",
     "output_type": "stream",
     "text": [
      "Baum-Welch Training Progress: 100%|██████████| 10/10 [00:00<00:00, 16.56it/s]\n"
     ]
    },
    {
     "name": "stdout",
     "output_type": "stream",
     "text": [
      "Iteration 4/10\n"
     ]
    },
    {
     "name": "stderr",
     "output_type": "stream",
     "text": [
      "Baum-Welch Training Progress: 100%|██████████| 10/10 [00:00<00:00, 15.26it/s]\n"
     ]
    },
    {
     "name": "stdout",
     "output_type": "stream",
     "text": [
      "Iteration 5/10\n"
     ]
    },
    {
     "name": "stderr",
     "output_type": "stream",
     "text": [
      "Baum-Welch Training Progress: 100%|██████████| 10/10 [00:00<00:00, 16.15it/s]\n"
     ]
    },
    {
     "name": "stdout",
     "output_type": "stream",
     "text": [
      "Iteration 6/10\n"
     ]
    },
    {
     "name": "stderr",
     "output_type": "stream",
     "text": [
      "Baum-Welch Training Progress: 100%|██████████| 10/10 [00:00<00:00, 14.41it/s]\n"
     ]
    },
    {
     "name": "stdout",
     "output_type": "stream",
     "text": [
      "Iteration 7/10\n"
     ]
    },
    {
     "name": "stderr",
     "output_type": "stream",
     "text": [
      "Baum-Welch Training Progress: 100%|██████████| 10/10 [00:00<00:00, 15.48it/s]\n"
     ]
    },
    {
     "name": "stdout",
     "output_type": "stream",
     "text": [
      "Iteration 8/10\n"
     ]
    },
    {
     "name": "stderr",
     "output_type": "stream",
     "text": [
      "Baum-Welch Training Progress: 100%|██████████| 10/10 [00:00<00:00, 15.02it/s]\n"
     ]
    },
    {
     "name": "stdout",
     "output_type": "stream",
     "text": [
      "Iteration 9/10\n"
     ]
    },
    {
     "name": "stderr",
     "output_type": "stream",
     "text": [
      "Baum-Welch Training Progress: 100%|██████████| 10/10 [00:00<00:00, 16.34it/s]\n"
     ]
    },
    {
     "name": "stdout",
     "output_type": "stream",
     "text": [
      "Iteration 10/10\n"
     ]
    },
    {
     "name": "stderr",
     "output_type": "stream",
     "text": [
      "Baum-Welch Training Progress: 100%|██████████| 10/10 [00:00<00:00, 14.27it/s]\n"
     ]
    },
    {
     "name": "stdout",
     "output_type": "stream",
     "text": [
      "Training HMM for Sad\n",
      "Iteration 1/10\n"
     ]
    },
    {
     "name": "stderr",
     "output_type": "stream",
     "text": [
      "Baum-Welch Training Progress: 100%|██████████| 10/10 [00:00<00:00, 15.64it/s]\n"
     ]
    },
    {
     "name": "stdout",
     "output_type": "stream",
     "text": [
      "Iteration 2/10\n"
     ]
    },
    {
     "name": "stderr",
     "output_type": "stream",
     "text": [
      "Baum-Welch Training Progress: 100%|██████████| 10/10 [00:00<00:00, 16.70it/s]\n"
     ]
    },
    {
     "name": "stdout",
     "output_type": "stream",
     "text": [
      "Iteration 3/10\n"
     ]
    },
    {
     "name": "stderr",
     "output_type": "stream",
     "text": [
      "Baum-Welch Training Progress: 100%|██████████| 10/10 [00:00<00:00, 15.96it/s]\n"
     ]
    },
    {
     "name": "stdout",
     "output_type": "stream",
     "text": [
      "Iteration 4/10\n"
     ]
    },
    {
     "name": "stderr",
     "output_type": "stream",
     "text": [
      "Baum-Welch Training Progress: 100%|██████████| 10/10 [00:00<00:00, 17.27it/s]\n"
     ]
    },
    {
     "name": "stdout",
     "output_type": "stream",
     "text": [
      "Iteration 5/10\n"
     ]
    },
    {
     "name": "stderr",
     "output_type": "stream",
     "text": [
      "Baum-Welch Training Progress: 100%|██████████| 10/10 [00:00<00:00, 16.10it/s]\n"
     ]
    },
    {
     "name": "stdout",
     "output_type": "stream",
     "text": [
      "Iteration 6/10\n"
     ]
    },
    {
     "name": "stderr",
     "output_type": "stream",
     "text": [
      "Baum-Welch Training Progress: 100%|██████████| 10/10 [00:00<00:00, 17.23it/s]\n"
     ]
    },
    {
     "name": "stdout",
     "output_type": "stream",
     "text": [
      "Iteration 7/10\n"
     ]
    },
    {
     "name": "stderr",
     "output_type": "stream",
     "text": [
      "Baum-Welch Training Progress: 100%|██████████| 10/10 [00:00<00:00, 17.27it/s]\n"
     ]
    },
    {
     "name": "stdout",
     "output_type": "stream",
     "text": [
      "Iteration 8/10\n"
     ]
    },
    {
     "name": "stderr",
     "output_type": "stream",
     "text": [
      "Baum-Welch Training Progress: 100%|██████████| 10/10 [00:00<00:00, 15.95it/s]\n"
     ]
    },
    {
     "name": "stdout",
     "output_type": "stream",
     "text": [
      "Iteration 9/10\n"
     ]
    },
    {
     "name": "stderr",
     "output_type": "stream",
     "text": [
      "Baum-Welch Training Progress: 100%|██████████| 10/10 [00:00<00:00, 16.90it/s]\n"
     ]
    },
    {
     "name": "stdout",
     "output_type": "stream",
     "text": [
      "Iteration 10/10\n"
     ]
    },
    {
     "name": "stderr",
     "output_type": "stream",
     "text": [
      "Baum-Welch Training Progress: 100%|██████████| 10/10 [00:00<00:00, 16.01it/s]\n"
     ]
    },
    {
     "name": "stdout",
     "output_type": "stream",
     "text": [
      "Training HMM for Fear\n",
      "Iteration 1/10\n"
     ]
    },
    {
     "name": "stderr",
     "output_type": "stream",
     "text": [
      "Baum-Welch Training Progress: 100%|██████████| 10/10 [00:00<00:00, 17.20it/s]\n"
     ]
    },
    {
     "name": "stdout",
     "output_type": "stream",
     "text": [
      "Iteration 2/10\n"
     ]
    },
    {
     "name": "stderr",
     "output_type": "stream",
     "text": [
      "Baum-Welch Training Progress: 100%|██████████| 10/10 [00:00<00:00, 16.10it/s]\n"
     ]
    },
    {
     "name": "stdout",
     "output_type": "stream",
     "text": [
      "Iteration 3/10\n"
     ]
    },
    {
     "name": "stderr",
     "output_type": "stream",
     "text": [
      "Baum-Welch Training Progress: 100%|██████████| 10/10 [00:00<00:00, 17.19it/s]\n"
     ]
    },
    {
     "name": "stdout",
     "output_type": "stream",
     "text": [
      "Iteration 4/10\n"
     ]
    },
    {
     "name": "stderr",
     "output_type": "stream",
     "text": [
      "Baum-Welch Training Progress: 100%|██████████| 10/10 [00:00<00:00, 15.93it/s]\n"
     ]
    },
    {
     "name": "stdout",
     "output_type": "stream",
     "text": [
      "Iteration 5/10\n"
     ]
    },
    {
     "name": "stderr",
     "output_type": "stream",
     "text": [
      "Baum-Welch Training Progress: 100%|██████████| 10/10 [00:00<00:00, 17.19it/s]\n"
     ]
    },
    {
     "name": "stdout",
     "output_type": "stream",
     "text": [
      "Iteration 6/10\n"
     ]
    },
    {
     "name": "stderr",
     "output_type": "stream",
     "text": [
      "Baum-Welch Training Progress: 100%|██████████| 10/10 [00:00<00:00, 16.07it/s]\n"
     ]
    },
    {
     "name": "stdout",
     "output_type": "stream",
     "text": [
      "Iteration 7/10\n"
     ]
    },
    {
     "name": "stderr",
     "output_type": "stream",
     "text": [
      "Baum-Welch Training Progress: 100%|██████████| 10/10 [00:00<00:00, 17.20it/s]\n"
     ]
    },
    {
     "name": "stdout",
     "output_type": "stream",
     "text": [
      "Iteration 8/10\n"
     ]
    },
    {
     "name": "stderr",
     "output_type": "stream",
     "text": [
      "Baum-Welch Training Progress: 100%|██████████| 10/10 [00:00<00:00, 17.24it/s]\n"
     ]
    },
    {
     "name": "stdout",
     "output_type": "stream",
     "text": [
      "Iteration 9/10\n"
     ]
    },
    {
     "name": "stderr",
     "output_type": "stream",
     "text": [
      "Baum-Welch Training Progress: 100%|██████████| 10/10 [00:00<00:00, 16.00it/s]\n"
     ]
    },
    {
     "name": "stdout",
     "output_type": "stream",
     "text": [
      "Iteration 10/10\n"
     ]
    },
    {
     "name": "stderr",
     "output_type": "stream",
     "text": [
      "Baum-Welch Training Progress: 100%|██████████| 10/10 [00:00<00:00, 17.25it/s]\n"
     ]
    },
    {
     "name": "stdout",
     "output_type": "stream",
     "text": [
      "Training HMM for Neutral\n",
      "Iteration 1/10\n"
     ]
    },
    {
     "name": "stderr",
     "output_type": "stream",
     "text": [
      "Baum-Welch Training Progress: 100%|██████████| 10/10 [00:00<00:00, 15.13it/s]\n"
     ]
    },
    {
     "name": "stdout",
     "output_type": "stream",
     "text": [
      "Iteration 2/10\n"
     ]
    },
    {
     "name": "stderr",
     "output_type": "stream",
     "text": [
      "Baum-Welch Training Progress: 100%|██████████| 10/10 [00:00<00:00, 16.44it/s]\n"
     ]
    },
    {
     "name": "stdout",
     "output_type": "stream",
     "text": [
      "Iteration 3/10\n"
     ]
    },
    {
     "name": "stderr",
     "output_type": "stream",
     "text": [
      "Baum-Welch Training Progress: 100%|██████████| 10/10 [00:00<00:00, 15.42it/s]\n"
     ]
    },
    {
     "name": "stdout",
     "output_type": "stream",
     "text": [
      "Iteration 4/10\n"
     ]
    },
    {
     "name": "stderr",
     "output_type": "stream",
     "text": [
      "Baum-Welch Training Progress: 100%|██████████| 10/10 [00:00<00:00, 16.53it/s]\n"
     ]
    },
    {
     "name": "stdout",
     "output_type": "stream",
     "text": [
      "Iteration 5/10\n"
     ]
    },
    {
     "name": "stderr",
     "output_type": "stream",
     "text": [
      "Baum-Welch Training Progress: 100%|██████████| 10/10 [00:00<00:00, 15.39it/s]\n"
     ]
    },
    {
     "name": "stdout",
     "output_type": "stream",
     "text": [
      "Iteration 6/10\n"
     ]
    },
    {
     "name": "stderr",
     "output_type": "stream",
     "text": [
      "Baum-Welch Training Progress: 100%|██████████| 10/10 [00:00<00:00, 16.54it/s]\n"
     ]
    },
    {
     "name": "stdout",
     "output_type": "stream",
     "text": [
      "Iteration 7/10\n"
     ]
    },
    {
     "name": "stderr",
     "output_type": "stream",
     "text": [
      "Baum-Welch Training Progress: 100%|██████████| 10/10 [00:00<00:00, 15.35it/s]\n"
     ]
    },
    {
     "name": "stdout",
     "output_type": "stream",
     "text": [
      "Iteration 8/10\n"
     ]
    },
    {
     "name": "stderr",
     "output_type": "stream",
     "text": [
      "Baum-Welch Training Progress: 100%|██████████| 10/10 [00:00<00:00, 16.55it/s]\n"
     ]
    },
    {
     "name": "stdout",
     "output_type": "stream",
     "text": [
      "Iteration 9/10\n"
     ]
    },
    {
     "name": "stderr",
     "output_type": "stream",
     "text": [
      "Baum-Welch Training Progress: 100%|██████████| 10/10 [00:00<00:00, 15.48it/s]\n"
     ]
    },
    {
     "name": "stdout",
     "output_type": "stream",
     "text": [
      "Iteration 10/10\n"
     ]
    },
    {
     "name": "stderr",
     "output_type": "stream",
     "text": [
      "Baum-Welch Training Progress: 100%|██████████| 10/10 [00:00<00:00, 16.53it/s]\n"
     ]
    },
    {
     "name": "stdout",
     "output_type": "stream",
     "text": [
      "Training HMM for Anger\n",
      "Iteration 1/10\n"
     ]
    },
    {
     "name": "stderr",
     "output_type": "stream",
     "text": [
      "Baum-Welch Training Progress: 100%|██████████| 10/10 [00:00<00:00, 15.74it/s]\n"
     ]
    },
    {
     "name": "stdout",
     "output_type": "stream",
     "text": [
      "Iteration 2/10\n"
     ]
    },
    {
     "name": "stderr",
     "output_type": "stream",
     "text": [
      "Baum-Welch Training Progress: 100%|██████████| 10/10 [00:00<00:00, 17.25it/s]\n"
     ]
    },
    {
     "name": "stdout",
     "output_type": "stream",
     "text": [
      "Iteration 3/10\n"
     ]
    },
    {
     "name": "stderr",
     "output_type": "stream",
     "text": [
      "Baum-Welch Training Progress: 100%|██████████| 10/10 [00:00<00:00, 15.57it/s]\n"
     ]
    },
    {
     "name": "stdout",
     "output_type": "stream",
     "text": [
      "Iteration 4/10\n"
     ]
    },
    {
     "name": "stderr",
     "output_type": "stream",
     "text": [
      "Baum-Welch Training Progress: 100%|██████████| 10/10 [00:00<00:00, 13.85it/s]\n"
     ]
    },
    {
     "name": "stdout",
     "output_type": "stream",
     "text": [
      "Iteration 5/10\n"
     ]
    },
    {
     "name": "stderr",
     "output_type": "stream",
     "text": [
      "Baum-Welch Training Progress: 100%|██████████| 10/10 [00:00<00:00, 14.27it/s]\n"
     ]
    },
    {
     "name": "stdout",
     "output_type": "stream",
     "text": [
      "Iteration 6/10\n"
     ]
    },
    {
     "name": "stderr",
     "output_type": "stream",
     "text": [
      "Baum-Welch Training Progress: 100%|██████████| 10/10 [00:00<00:00, 15.76it/s]\n"
     ]
    },
    {
     "name": "stdout",
     "output_type": "stream",
     "text": [
      "Iteration 7/10\n"
     ]
    },
    {
     "name": "stderr",
     "output_type": "stream",
     "text": [
      "Baum-Welch Training Progress: 100%|██████████| 10/10 [00:00<00:00, 16.95it/s]\n"
     ]
    },
    {
     "name": "stdout",
     "output_type": "stream",
     "text": [
      "Iteration 8/10\n"
     ]
    },
    {
     "name": "stderr",
     "output_type": "stream",
     "text": [
      "Baum-Welch Training Progress: 100%|██████████| 10/10 [00:00<00:00, 16.31it/s]\n"
     ]
    },
    {
     "name": "stdout",
     "output_type": "stream",
     "text": [
      "Iteration 9/10\n"
     ]
    },
    {
     "name": "stderr",
     "output_type": "stream",
     "text": [
      "Baum-Welch Training Progress: 100%|██████████| 10/10 [00:00<00:00, 16.82it/s]\n"
     ]
    },
    {
     "name": "stdout",
     "output_type": "stream",
     "text": [
      "Iteration 10/10\n"
     ]
    },
    {
     "name": "stderr",
     "output_type": "stream",
     "text": [
      "Baum-Welch Training Progress: 100%|██████████| 10/10 [00:00<00:00, 13.91it/s]\n"
     ]
    },
    {
     "name": "stdout",
     "output_type": "stream",
     "text": [
      "Training HMM for Disgust\n",
      "Iteration 1/10\n"
     ]
    },
    {
     "name": "stderr",
     "output_type": "stream",
     "text": [
      "Baum-Welch Training Progress: 100%|██████████| 10/10 [00:00<00:00, 15.05it/s]\n"
     ]
    },
    {
     "name": "stdout",
     "output_type": "stream",
     "text": [
      "Iteration 2/10\n"
     ]
    },
    {
     "name": "stderr",
     "output_type": "stream",
     "text": [
      "Baum-Welch Training Progress: 100%|██████████| 10/10 [00:00<00:00, 14.90it/s]\n"
     ]
    },
    {
     "name": "stdout",
     "output_type": "stream",
     "text": [
      "Iteration 3/10\n"
     ]
    },
    {
     "name": "stderr",
     "output_type": "stream",
     "text": [
      "Baum-Welch Training Progress: 100%|██████████| 10/10 [00:00<00:00, 16.13it/s]\n"
     ]
    },
    {
     "name": "stdout",
     "output_type": "stream",
     "text": [
      "Iteration 4/10\n"
     ]
    },
    {
     "name": "stderr",
     "output_type": "stream",
     "text": [
      "Baum-Welch Training Progress: 100%|██████████| 10/10 [00:00<00:00, 14.82it/s]\n"
     ]
    },
    {
     "name": "stdout",
     "output_type": "stream",
     "text": [
      "Iteration 5/10\n"
     ]
    },
    {
     "name": "stderr",
     "output_type": "stream",
     "text": [
      "Baum-Welch Training Progress: 100%|██████████| 10/10 [00:00<00:00, 16.23it/s]\n"
     ]
    },
    {
     "name": "stdout",
     "output_type": "stream",
     "text": [
      "Iteration 6/10\n"
     ]
    },
    {
     "name": "stderr",
     "output_type": "stream",
     "text": [
      "Baum-Welch Training Progress: 100%|██████████| 10/10 [00:00<00:00, 14.98it/s]\n"
     ]
    },
    {
     "name": "stdout",
     "output_type": "stream",
     "text": [
      "Iteration 7/10\n"
     ]
    },
    {
     "name": "stderr",
     "output_type": "stream",
     "text": [
      "Baum-Welch Training Progress: 100%|██████████| 10/10 [00:00<00:00, 16.62it/s]\n"
     ]
    },
    {
     "name": "stdout",
     "output_type": "stream",
     "text": [
      "Iteration 8/10\n"
     ]
    },
    {
     "name": "stderr",
     "output_type": "stream",
     "text": [
      "Baum-Welch Training Progress: 100%|██████████| 10/10 [00:00<00:00, 15.31it/s]\n"
     ]
    },
    {
     "name": "stdout",
     "output_type": "stream",
     "text": [
      "Iteration 9/10\n"
     ]
    },
    {
     "name": "stderr",
     "output_type": "stream",
     "text": [
      "Baum-Welch Training Progress: 100%|██████████| 10/10 [00:00<00:00, 16.80it/s]\n"
     ]
    },
    {
     "name": "stdout",
     "output_type": "stream",
     "text": [
      "Iteration 10/10\n"
     ]
    },
    {
     "name": "stderr",
     "output_type": "stream",
     "text": [
      "Baum-Welch Training Progress: 100%|██████████| 10/10 [00:00<00:00, 15.50it/s]\n"
     ]
    }
   ],
   "source": [
    "# Set HMM parameters\n",
    "n_states = 5\n",
    "n_features = 1\n",
    "for features in train_features.values():\n",
    "    n_features = features[0].shape[1]  # Number of features\n",
    "    break  # Only need to check the first one\n",
    "max_iter = 10  # Number of Baum-Welch iterations\n",
    "\n",
    "# Train HMMs with diagonal covariance (faster)\n",
    "hmm_models = train_hmm(\n",
    "    train_features, \n",
    "    n_states=n_states, \n",
    "    n_symbols=n_features,\n",
    "    max_iter=max_iter,\n",
    "    continuous = True,  # Use continuous HMM\n",
    "    diagonal_covariance=True,  # Use diagonal covariance for speed,\n",
    ")"
   ]
  },
  {
   "cell_type": "markdown",
   "metadata": {},
   "source": [
    "### Evaluate Models\n",
    "\n",
    "Now we'll evaluate the trained HMM models on both the training and test sets.\n",
    "We'll use the new score method to calculate the log-likelihood of each sequence and normalize by sequence length."
   ]
  },
  {
   "cell_type": "code",
   "execution_count": 7,
   "metadata": {},
   "outputs": [
    {
     "name": "stdout",
     "output_type": "stream",
     "text": [
      "\n",
      "Evaluating on training set...\n",
      "Evaluating HMMs...\n"
     ]
    },
    {
     "name": "stderr",
     "output_type": "stream",
     "text": [
      "Evaluating Happy: 100%|██████████| 10/10 [00:01<00:00,  7.63it/s]\n",
      "Evaluating Sad: 100%|██████████| 10/10 [00:01<00:00,  8.19it/s]\n",
      "Evaluating Fear: 100%|██████████| 10/10 [00:01<00:00,  7.90it/s]\n",
      "Evaluating Neutral: 100%|██████████| 10/10 [00:01<00:00,  7.80it/s]\n",
      "Evaluating Anger: 100%|██████████| 10/10 [00:01<00:00,  7.83it/s]\n",
      "Evaluating Disgust: 100%|██████████| 10/10 [00:01<00:00,  7.71it/s]\n"
     ]
    },
    {
     "name": "stdout",
     "output_type": "stream",
     "text": [
      "Evaluation complete.\n",
      "Train Accuracy: 0.77\n",
      "Train Confusion Matrix:\n",
      "[[ 9  0  0  0  1  0]\n",
      " [ 0  7  1  2  0  0]\n",
      " [ 2  2  5  1  0  0]\n",
      " [ 0  0  1  9  0  0]\n",
      " [ 0  0  0  0 10  0]\n",
      " [ 1  2  0  1  0  6]]\n",
      "\n",
      "Evaluating on test set...\n",
      "Evaluating HMMs...\n"
     ]
    },
    {
     "name": "stderr",
     "output_type": "stream",
     "text": [
      "Evaluating Happy: 100%|██████████| 10/10 [00:01<00:00,  5.96it/s]\n",
      "Evaluating Sad: 100%|██████████| 10/10 [00:01<00:00,  5.76it/s]\n",
      "Evaluating Fear: 100%|██████████| 10/10 [00:01<00:00,  5.87it/s]\n",
      "Evaluating Neutral: 100%|██████████| 10/10 [00:01<00:00,  5.96it/s]\n",
      "Evaluating Anger: 100%|██████████| 10/10 [00:01<00:00,  5.48it/s]\n",
      "Evaluating Disgust: 100%|██████████| 10/10 [00:01<00:00,  5.45it/s]"
     ]
    },
    {
     "name": "stdout",
     "output_type": "stream",
     "text": [
      "Evaluation complete.\n",
      "Test Accuracy: 0.17\n",
      "Test Confusion Matrix:\n",
      "[[ 0  0  0  0 10  0]\n",
      " [ 1  0  0  0  9  0]\n",
      " [ 1  0  0  0  9  0]\n",
      " [ 0  0  0  0 10  0]\n",
      " [ 0  0  0  0 10  0]\n",
      " [ 0  0  0  0 10  0]]\n"
     ]
    },
    {
     "name": "stderr",
     "output_type": "stream",
     "text": [
      "\n"
     ]
    }
   ],
   "source": [
    "# Evaluate on training set\n",
    "print(\"\\nEvaluating on training set...\")\n",
    "train_accuracy, train_cm, _, _, _ = evaluate_models(\n",
    "    hmm_models, \n",
    "    train_features,\n",
    "    normalize_by_length=True  # Normalize by sequence length to handle variable-length audio\n",
    ")\n",
    "print(f\"Train Accuracy: {train_accuracy:.2f}\")\n",
    "print(\"Train Confusion Matrix:\")\n",
    "print(train_cm)\n",
    "\n",
    "# Evaluate on test set\n",
    "print(\"\\nEvaluating on test set...\")\n",
    "test_accuracy, test_cm, _, _, _ = evaluate_models(\n",
    "    hmm_models, \n",
    "    test_features, \n",
    "    normalize_by_length=True\n",
    ")\n",
    "print(f\"Test Accuracy: {test_accuracy:.2f}\")\n",
    "print(\"Test Confusion Matrix:\")\n",
    "print(test_cm)"
   ]
  },
  {
   "cell_type": "markdown",
   "metadata": {},
   "source": [
    "### Example: Classify a Single Audio Sample\n",
    "\n",
    "Let's test the model on a single audio sample and print the scores for each emotion."
   ]
  },
  {
   "cell_type": "code",
   "execution_count": 8,
   "metadata": {},
   "outputs": [
    {
     "name": "stdout",
     "output_type": "stream",
     "text": [
      "True emotion: Anger\n",
      "Predicted emotion: Anger\n",
      "\n",
      "Scores for each emotion (log-likelihood/frame, higher is better):\n",
      "Anger:    -5.98\n",
      "Happy:   -12.23\n",
      "Disgust:   -14.50\n",
      "Fear:   -15.28\n",
      "Neutral:   -18.04\n",
      "Sad:   -22.44\n"
     ]
    }
   ],
   "source": [
    "# Choose a sample from the test set\n",
    "true_emotion = \"Anger\"\n",
    "sample_index = 5  # Choose any sample index\n",
    "sample_features = test_features[true_emotion][sample_index]\n",
    "\n",
    "# Predict using utility function\n",
    "predicted_emotion, scores = predict_label(hmm_models, sample_features)\n",
    "\n",
    "# Print results\n",
    "print(f\"True emotion: {true_emotion}\")\n",
    "print(f\"Predicted emotion: {predicted_emotion}\")\n",
    "print(\"\\nScores for each emotion (log-likelihood/frame, higher is better):\")\n",
    "\n",
    "# Normalize scores by sequence length for fair comparison\n",
    "normalized_scores = {emotion: score/len(sample_features) for emotion, score in scores.items()}\n",
    "\n",
    "# Sort and print scores from highest to lowest\n",
    "for emotion, score in sorted(normalized_scores.items(), key=lambda x: x[1], reverse=True):\n",
    "    print(f\"{emotion}: {score:8.2f}\")"
   ]
  },
  {
   "cell_type": "markdown",
   "metadata": {},
   "source": [
    "## Wrap up\n",
    "\n",
    "This is a demonstration of the performance of hmmaudio pipeline on the whole dataset."
   ]
  },
  {
   "cell_type": "code",
   "execution_count": 14,
   "metadata": {},
   "outputs": [
    {
     "name": "stdout",
     "output_type": "stream",
     "text": [
      "Loading training data...\n",
      "Processing Happy: 100%|██████████| 1271/1271 [00:08<00:00, 142.25it/s]\n",
      "Happy: Loaded 1271 files\n",
      "Processing Sad: 100%|██████████| 1271/1271 [00:10<00:00, 125.04it/s]\n",
      "Sad: Loaded 1271 files\n",
      "Processing Fear: 100%|██████████| 1271/1271 [00:10<00:00, 125.31it/s]\n",
      "Fear: Loaded 1271 files\n",
      "Processing Neutral: 100%|██████████| 1087/1087 [00:08<00:00, 121.49it/s]\n",
      "Neutral: Loaded 1087 files\n",
      "Processing Anger: 100%|██████████| 1271/1271 [00:09<00:00, 131.03it/s]\n",
      "Anger: Loaded 1271 files\n",
      "Processing Disgust: 100%|██████████| 1271/1271 [00:12<00:00, 105.36it/s]\n",
      "Disgust: Loaded 1271 files\n",
      "\n",
      "Loading test data...\n",
      "Processing Happy: 100%|██████████| 48/48 [00:00<00:00, 68.73it/s]\n",
      "Happy: Loaded 48 files\n",
      "Processing Sad: 100%|██████████| 48/48 [00:00<00:00, 72.95it/s]\n",
      "Sad: Loaded 48 files\n",
      "Processing Fear: 100%|██████████| 48/48 [00:00<00:00, 67.09it/s]\n",
      "Fear: Loaded 48 files\n",
      "Processing Neutral: 100%|██████████| 48/48 [00:00<00:00, 78.42it/s]\n",
      "Neutral: Loaded 48 files\n",
      "Processing Anger: 100%|██████████| 48/48 [00:00<00:00, 67.86it/s]\n",
      "Anger: Loaded 48 files\n",
      "Processing Disgust: 100%|██████████| 48/48 [00:00<00:00, 73.77it/s]\n",
      "Disgust: Loaded 48 files\n",
      "Training HMM for Happy\n",
      "Iteration 1/10\n",
      "Baum-Welch Training Progress: 100%|██████████| 1271/1271 [01:09<00:00, 18.26it/s]\n",
      "Iteration 2/10\n",
      "Baum-Welch Training Progress: 100%|██████████| 1271/1271 [01:08<00:00, 18.54it/s]\n",
      "Iteration 3/10\n",
      "Baum-Welch Training Progress: 100%|██████████| 1271/1271 [03:27<00:00,  6.13it/s] \n",
      "Iteration 4/10\n",
      "Baum-Welch Training Progress: 100%|██████████| 1271/1271 [01:08<00:00, 18.53it/s]\n",
      "Iteration 5/10\n",
      "Baum-Welch Training Progress: 100%|██████████| 1271/1271 [11:03<00:00,  1.92it/s]  \n",
      "Iteration 6/10\n",
      "Baum-Welch Training Progress: 100%|██████████| 1271/1271 [01:08<00:00, 18.59it/s]\n",
      "Iteration 7/10\n",
      "Baum-Welch Training Progress: 100%|██████████| 1271/1271 [04:12<00:00,  5.04it/s] \n",
      "Iteration 8/10\n",
      "Baum-Welch Training Progress: 100%|██████████| 1271/1271 [01:09<00:00, 18.36it/s]\n",
      "Iteration 9/10\n",
      "Baum-Welch Training Progress: 100%|██████████| 1271/1271 [01:08<00:00, 18.55it/s]\n",
      "Iteration 10/10\n",
      "Baum-Welch Training Progress: 100%|██████████| 1271/1271 [01:08<00:00, 18.53it/s]\n",
      "Training HMM for Sad\n",
      "Iteration 1/10\n",
      "Baum-Welch Training Progress: 100%|██████████| 1271/1271 [01:17<00:00, 16.49it/s]\n",
      "Iteration 2/10\n",
      "Baum-Welch Training Progress: 100%|██████████| 1271/1271 [01:18<00:00, 16.25it/s]\n",
      "Iteration 3/10\n",
      "Baum-Welch Training Progress: 100%|██████████| 1271/1271 [01:17<00:00, 16.38it/s]\n",
      "Iteration 4/10\n",
      "Baum-Welch Training Progress: 100%|██████████| 1271/1271 [01:16<00:00, 16.53it/s]\n",
      "Iteration 5/10\n",
      "Baum-Welch Training Progress: 100%|██████████| 1271/1271 [01:17<00:00, 16.46it/s]\n",
      "Iteration 6/10\n",
      "Baum-Welch Training Progress: 100%|██████████| 1271/1271 [01:18<00:00, 16.26it/s]\n",
      "Iteration 7/10\n",
      "Baum-Welch Training Progress: 100%|██████████| 1271/1271 [01:20<00:00, 15.77it/s]\n",
      "Iteration 8/10\n",
      "Baum-Welch Training Progress: 100%|██████████| 1271/1271 [01:18<00:00, 16.25it/s]\n",
      "Iteration 9/10\n",
      "Baum-Welch Training Progress: 100%|██████████| 1271/1271 [01:17<00:00, 16.41it/s]\n",
      "Iteration 10/10\n",
      "Baum-Welch Training Progress: 100%|██████████| 1271/1271 [01:17<00:00, 16.49it/s]\n",
      "Training HMM for Fear\n",
      "Iteration 1/10\n",
      "Baum-Welch Training Progress: 100%|██████████| 1271/1271 [01:13<00:00, 17.34it/s]\n",
      "Iteration 2/10\n",
      "Baum-Welch Training Progress: 100%|██████████| 1271/1271 [01:14<00:00, 17.01it/s]\n",
      "Iteration 3/10\n",
      "Baum-Welch Training Progress: 100%|██████████| 1271/1271 [01:12<00:00, 17.44it/s]\n",
      "Iteration 4/10\n",
      "Baum-Welch Training Progress: 100%|██████████| 1271/1271 [21:40<00:00,  1.02s/it]   \n",
      "Iteration 5/10\n",
      "Baum-Welch Training Progress: 100%|██████████| 1271/1271 [00:47<00:00, 26.66it/s]\n",
      "Iteration 6/10\n",
      "Baum-Welch Training Progress: 100%|██████████| 1271/1271 [00:42<00:00, 29.91it/s]\n",
      "Iteration 7/10\n",
      "Baum-Welch Training Progress: 100%|██████████| 1271/1271 [00:43<00:00, 29.25it/s]\n",
      "Iteration 8/10\n",
      "Baum-Welch Training Progress: 100%|██████████| 1271/1271 [00:43<00:00, 29.55it/s]\n",
      "Iteration 9/10\n",
      "Baum-Welch Training Progress: 100%|██████████| 1271/1271 [00:42<00:00, 30.09it/s]\n",
      "Iteration 10/10\n",
      "Baum-Welch Training Progress: 100%|██████████| 1271/1271 [00:42<00:00, 30.10it/s]\n",
      "Training HMM for Neutral\n",
      "Iteration 1/10\n",
      "Baum-Welch Training Progress: 100%|██████████| 1087/1087 [00:35<00:00, 30.80it/s]\n",
      "Iteration 2/10\n",
      "Baum-Welch Training Progress: 100%|██████████| 1087/1087 [00:34<00:00, 31.08it/s]\n",
      "Iteration 3/10\n",
      "Baum-Welch Training Progress: 100%|██████████| 1087/1087 [00:34<00:00, 31.18it/s]\n",
      "Iteration 4/10\n",
      "Baum-Welch Training Progress: 100%|██████████| 1087/1087 [00:35<00:00, 31.05it/s]\n",
      "Iteration 5/10\n",
      "Baum-Welch Training Progress: 100%|██████████| 1087/1087 [00:35<00:00, 30.82it/s]\n",
      "Iteration 6/10\n",
      "Baum-Welch Training Progress: 100%|██████████| 1087/1087 [00:34<00:00, 31.10it/s]\n",
      "Iteration 7/10\n",
      "Baum-Welch Training Progress: 100%|██████████| 1087/1087 [00:34<00:00, 31.21it/s]\n",
      "Iteration 8/10\n",
      "Baum-Welch Training Progress: 100%|██████████| 1087/1087 [00:34<00:00, 31.22it/s]\n",
      "Iteration 9/10\n",
      "Baum-Welch Training Progress: 100%|██████████| 1087/1087 [00:34<00:00, 31.12it/s]\n",
      "Iteration 10/10\n",
      "Baum-Welch Training Progress: 100%|██████████| 1087/1087 [00:34<00:00, 31.21it/s]\n",
      "Training HMM for Anger\n",
      "Iteration 1/10\n",
      "Baum-Welch Training Progress: 100%|██████████| 1271/1271 [00:44<00:00, 28.30it/s]\n",
      "Iteration 2/10\n",
      "Baum-Welch Training Progress: 100%|██████████| 1271/1271 [00:43<00:00, 29.26it/s]\n",
      "Iteration 3/10\n",
      "Baum-Welch Training Progress: 100%|██████████| 1271/1271 [00:43<00:00, 29.15it/s]\n",
      "Iteration 4/10\n",
      "Baum-Welch Training Progress: 100%|██████████| 1271/1271 [00:43<00:00, 29.20it/s]\n",
      "Iteration 5/10\n",
      "Baum-Welch Training Progress: 100%|██████████| 1271/1271 [00:43<00:00, 29.28it/s]\n",
      "Iteration 6/10\n",
      "Baum-Welch Training Progress: 100%|██████████| 1271/1271 [00:43<00:00, 29.20it/s]\n",
      "Iteration 7/10\n",
      "Baum-Welch Training Progress: 100%|██████████| 1271/1271 [00:43<00:00, 29.24it/s]\n",
      "Iteration 8/10\n",
      "Baum-Welch Training Progress: 100%|██████████| 1271/1271 [00:43<00:00, 29.23it/s]\n",
      "Iteration 9/10\n",
      "Baum-Welch Training Progress: 100%|██████████| 1271/1271 [00:43<00:00, 29.13it/s]\n",
      "Iteration 10/10\n",
      "Baum-Welch Training Progress: 100%|██████████| 1271/1271 [00:43<00:00, 29.20it/s]\n",
      "Training HMM for Disgust\n",
      "Iteration 1/10\n",
      "Baum-Welch Training Progress: 100%|██████████| 1271/1271 [00:47<00:00, 26.57it/s]\n",
      "Iteration 2/10\n",
      "Baum-Welch Training Progress: 100%|██████████| 1271/1271 [00:47<00:00, 26.66it/s]\n",
      "Iteration 3/10\n",
      "Baum-Welch Training Progress: 100%|██████████| 1271/1271 [00:46<00:00, 27.17it/s]\n",
      "Iteration 4/10\n",
      "Baum-Welch Training Progress: 100%|██████████| 1271/1271 [00:46<00:00, 27.26it/s]\n",
      "Iteration 5/10\n",
      "Baum-Welch Training Progress: 100%|██████████| 1271/1271 [00:47<00:00, 26.83it/s]\n",
      "Iteration 6/10\n",
      "Baum-Welch Training Progress: 100%|██████████| 1271/1271 [00:46<00:00, 27.08it/s]\n",
      "Iteration 7/10\n",
      "Baum-Welch Training Progress: 100%|██████████| 1271/1271 [00:46<00:00, 27.07it/s]\n",
      "Iteration 8/10\n",
      "Baum-Welch Training Progress: 100%|██████████| 1271/1271 [00:48<00:00, 26.41it/s]\n",
      "Iteration 9/10\n",
      "Baum-Welch Training Progress: 100%|██████████| 1271/1271 [00:47<00:00, 26.73it/s]\n",
      "Iteration 10/10\n",
      "Baum-Welch Training Progress: 100%|██████████| 1271/1271 [00:47<00:00, 26.80it/s]\n",
      "\n"
     ]
    }
   ],
   "source": [
    "TRAIN_DATA_PATH = \"./data/train\"\n",
    "TEST_DATA_PATH = \"./data/test\"\n",
    "n_states = 5\n",
    "\n",
    "\n",
    "# Load training and test data\n",
    "print(\"Loading training data...\")\n",
    "train_features, train_files = load_all_data(TRAIN_DATA_PATH,              \n",
    "                include_mfcc=True,\n",
    "                include_delta=True,\n",
    "                include_delta2=True,\n",
    "                include_energy=True,\n",
    "                num_cepstral=13,\n",
    "                frame_size=0.025,\n",
    "                frame_stride=0.01)\n",
    "print(\"\\nLoading test data...\")\n",
    "test_features, test_files = load_all_data(TEST_DATA_PATH, \n",
    "                include_mfcc=True,\n",
    "                include_delta=True,\n",
    "                include_delta2=True,\n",
    "                include_energy=True,\n",
    "                num_cepstral=13,\n",
    "                frame_size=0.025,\n",
    "                frame_stride=0.01)\n",
    "\n",
    "n_features = train_features[\"Anger\"][0].shape[1]  # Number of features\n",
    "\n",
    "hmm_models_full_iter10 = train_hmm(\n",
    "    train_features, \n",
    "    n_states=n_states, \n",
    "    n_symbols=n_features,\n",
    "    max_iter=10,\n",
    "    continuous = True,  # Use continuous HMM\n",
    "    diagonal_covariance=True,  # Use diagonal covariance for speed,\n",
    ")"
   ]
  },
  {
   "cell_type": "code",
   "execution_count": 30,
   "metadata": {},
   "outputs": [
    {
     "name": "stdout",
     "output_type": "stream",
     "text": [
      "\n",
      "Evaluating on training set\n",
      "Evaluating HMMs...\n"
     ]
    },
    {
     "name": "stderr",
     "output_type": "stream",
     "text": [
      "Evaluating Happy: 100%|██████████| 1271/1271 [01:25<00:00, 14.91it/s]\n",
      "Evaluating Sad: 100%|██████████| 1271/1271 [01:33<00:00, 13.59it/s]\n",
      "Evaluating Fear: 100%|██████████| 1271/1271 [01:30<00:00, 14.02it/s]\n",
      "Evaluating Neutral: 100%|██████████| 1087/1087 [01:15<00:00, 14.44it/s]\n",
      "Evaluating Anger: 100%|██████████| 1271/1271 [01:33<00:00, 13.55it/s]\n",
      "Evaluating Disgust: 100%|██████████| 1271/1271 [01:40<00:00, 12.65it/s]\n"
     ]
    },
    {
     "name": "stdout",
     "output_type": "stream",
     "text": [
      "Evaluation complete.\n",
      "Train Accuracy: 0.40\n",
      "Train Confusion Matrix:\n",
      "[[423  53  96 253 383  63]\n",
      " [ 46 745 138 268  28  46]\n",
      " [166 309 209 269 286  32]\n",
      " [173 143 148 496  40  87]\n",
      " [150   8  25  37 985  66]\n",
      " [212 255 134 310 209 151]]\n",
      "\n",
      "Evaluating on test set\n",
      "Evaluating HMMs...\n"
     ]
    },
    {
     "name": "stderr",
     "output_type": "stream",
     "text": [
      "Evaluating Happy: 100%|██████████| 48/48 [00:04<00:00, 10.05it/s]\n",
      "Evaluating Sad: 100%|██████████| 48/48 [00:04<00:00,  9.74it/s]\n",
      "Evaluating Fear: 100%|██████████| 48/48 [00:04<00:00,  9.99it/s]\n",
      "Evaluating Neutral: 100%|██████████| 48/48 [00:04<00:00, 10.04it/s]\n",
      "Evaluating Anger: 100%|██████████| 48/48 [00:05<00:00,  9.43it/s]\n",
      "Evaluating Disgust: 100%|██████████| 48/48 [00:05<00:00,  9.26it/s]"
     ]
    },
    {
     "name": "stdout",
     "output_type": "stream",
     "text": [
      "Evaluation complete.\n",
      "Test Accuracy: 0.17\n",
      "Test Confusion Matrix:\n",
      "[[ 0  0 22  0 26  0]\n",
      " [ 0  0 17  0 31  0]\n",
      " [ 0  0 21  0 27  0]\n",
      " [ 0  1 14  0 33  0]\n",
      " [ 0  3 16  0 29  0]\n",
      " [ 0  0 13  0 35  0]]\n",
      "HMM models saved to hmm_models_full_iter10.npz\n"
     ]
    },
    {
     "name": "stderr",
     "output_type": "stream",
     "text": [
      "\n"
     ]
    }
   ],
   "source": [
    "# Evaluate on training set\n",
    "print(\"\\nEvaluating on training set\")\n",
    "train_accuracy, train_cm, _, _, _ = evaluate_models(\n",
    "    hmm_models_full_iter10, \n",
    "    train_features, \n",
    "    train_files,\n",
    ")\n",
    "print(f\"Train Accuracy: {train_accuracy:.2f}\")\n",
    "print(\"Train Confusion Matrix:\")\n",
    "print(train_cm)\n",
    "# Evaluate on test set\n",
    "print(\"\\nEvaluating on test set\")\n",
    "test_accuracy, test_cm, _, _, _ = evaluate_models(\n",
    "    hmm_models_full_iter10, \n",
    "    test_features, \n",
    "    test_files\n",
    ")\n",
    "print(f\"Test Accuracy: {test_accuracy:.2f}\")\n",
    "print(\"Test Confusion Matrix:\")\n",
    "print(test_cm)\n",
    "\n",
    "# Save the trained HMM models to an npz file\n",
    "\n",
    "np.savez(\"hmm_models_full_iter10.npz\", hmm_models=hmm_models_full_iter10)\n",
    "print(\"HMM models saved to hmm_models_full_iter10.npz\")"
   ]
  }
 ],
 "metadata": {
  "kernelspec": {
   "display_name": "csc413",
   "language": "python",
   "name": "python3"
  },
  "language_info": {
   "codemirror_mode": {
    "name": "ipython",
    "version": 3
   },
   "file_extension": ".py",
   "mimetype": "text/x-python",
   "name": "python",
   "nbconvert_exporter": "python",
   "pygments_lexer": "ipython3",
   "version": "3.12.8"
  }
 },
 "nbformat": 4,
 "nbformat_minor": 4
}
