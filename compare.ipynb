{
 "cells": [
  {
   "cell_type": "code",
   "execution_count": 3,
   "metadata": {},
   "outputs": [],
   "source": [
    "from hmmaudio.utils import load_all_data\n",
    "from hmmlearn import hmm\n",
    "from hmmaudio.eval import evaluate_models\n",
    "import numpy as np"
   ]
  },
  {
   "cell_type": "code",
   "execution_count": 4,
   "metadata": {},
   "outputs": [
    {
     "name": "stderr",
     "output_type": "stream",
     "text": [
      "Processing Happy:   0%|          | 0/1271 [00:00<?, ?it/s]"
     ]
    },
    {
     "name": "stderr",
     "output_type": "stream",
     "text": [
      "Processing Happy: 100%|██████████| 1271/1271 [00:10<00:00, 119.86it/s]\n"
     ]
    },
    {
     "name": "stdout",
     "output_type": "stream",
     "text": [
      "Happy: Loaded 1271 files\n"
     ]
    },
    {
     "name": "stderr",
     "output_type": "stream",
     "text": [
      "Processing Sad: 100%|██████████| 1271/1271 [00:10<00:00, 118.32it/s]\n"
     ]
    },
    {
     "name": "stdout",
     "output_type": "stream",
     "text": [
      "Sad: Loaded 1271 files\n"
     ]
    },
    {
     "name": "stderr",
     "output_type": "stream",
     "text": [
      "Processing Fear: 100%|██████████| 1271/1271 [00:10<00:00, 120.30it/s]\n"
     ]
    },
    {
     "name": "stdout",
     "output_type": "stream",
     "text": [
      "Fear: Loaded 1271 files\n"
     ]
    },
    {
     "name": "stderr",
     "output_type": "stream",
     "text": [
      "Processing Neutral: 100%|██████████| 1087/1087 [00:08<00:00, 124.46it/s]\n"
     ]
    },
    {
     "name": "stdout",
     "output_type": "stream",
     "text": [
      "Neutral: Loaded 1087 files\n"
     ]
    },
    {
     "name": "stderr",
     "output_type": "stream",
     "text": [
      "Processing Anger: 100%|██████████| 1271/1271 [00:10<00:00, 122.27it/s]\n"
     ]
    },
    {
     "name": "stdout",
     "output_type": "stream",
     "text": [
      "Anger: Loaded 1271 files\n"
     ]
    },
    {
     "name": "stderr",
     "output_type": "stream",
     "text": [
      "Processing Disgust: 100%|██████████| 1271/1271 [00:10<00:00, 120.24it/s]"
     ]
    },
    {
     "name": "stdout",
     "output_type": "stream",
     "text": [
      "Disgust: Loaded 1271 files\n"
     ]
    },
    {
     "name": "stderr",
     "output_type": "stream",
     "text": [
      "\n"
     ]
    }
   ],
   "source": [
    "TRAIN_DATA_PATH = \"./data/train\"  # Path to training data\n",
    "\n",
    "# Load training data with delta and delta-second features\n",
    "train_features, train_files = load_all_data(\n",
    "    TRAIN_DATA_PATH,\n",
    "    include_mfcc=True,\n",
    "    include_delta=True,\n",
    "    include_delta2=True,\n",
    "    num_cepstral=13,\n",
    "    target_frames=128\n",
    ")"
   ]
  },
  {
   "cell_type": "code",
   "execution_count": 6,
   "metadata": {},
   "outputs": [
    {
     "name": "stdout",
     "output_type": "stream",
     "text": [
      "Training HMM for Happy with 1271 sequences\n",
      "Training HMM for Sad with 1271 sequences\n",
      "Training HMM for Fear with 1271 sequences\n",
      "Training HMM for Neutral with 1087 sequences\n",
      "Training HMM for Anger with 1271 sequences\n",
      "Training HMM for Disgust with 1271 sequences\n"
     ]
    }
   ],
   "source": [
    "# Ensure the training data is loaded\n",
    "def train_hmm(train_features, n_states):\n",
    "    \"\"\"\n",
    "    Train Gaussian HMMs for each emotion using the provided features.\n",
    "\n",
    "    Parameters:\n",
    "    - train_features: Dictionary of lists of training features for each emotion.\n",
    "    - n_states: Number of hidden states in the HMM.\n",
    "\n",
    "    Returns:\n",
    "    - models: Dictionary of trained HMM models for each emotion.\n",
    "    \"\"\"\n",
    "    models = {}\n",
    "    for emotion, features_list in train_features.items():\n",
    "        # Concatenate all sequences and get their lengths\n",
    "        X = np.concatenate(features_list)\n",
    "        lengths = [features.shape[0] for features in features_list]\n",
    "        print(f\"Training HMM for {emotion} with {len(lengths)} sequences\")\n",
    "        # Initialize and train HMM\n",
    "        model = hmm.GaussianHMM(n_components=n_states, \n",
    "                               covariance_type=\"diag\", \n",
    "                               n_iter=10)\n",
    "        # Fit the model to the data\n",
    "        model.fit(X, lengths)\n",
    "        models[emotion] = model\n",
    "    return models\n",
    "\n",
    "# Define HMM parameters\n",
    "n_states = 5  # Number of hidden states\n",
    "n_symbols = 13  # Number of MFCC features (including delta and delta-second)\n",
    "\n",
    "# Train Gaussian HMMs for each emotion\n",
    "hmm_models = train_hmm(train_features, n_states)"
   ]
  },
  {
   "cell_type": "code",
   "execution_count": 8,
   "metadata": {},
   "outputs": [
    {
     "name": "stdout",
     "output_type": "stream",
     "text": [
      "Evaluating HMMs...\n"
     ]
    },
    {
     "name": "stderr",
     "output_type": "stream",
     "text": [
      "Evaluating Happy: 100%|██████████| 1271/1271 [00:01<00:00, 686.28it/s]\n",
      "Evaluating Sad: 100%|██████████| 1271/1271 [00:01<00:00, 696.33it/s]\n",
      "Evaluating Fear: 100%|██████████| 1271/1271 [00:01<00:00, 689.55it/s]\n",
      "Evaluating Neutral: 100%|██████████| 1087/1087 [00:01<00:00, 690.98it/s]\n",
      "Evaluating Anger: 100%|██████████| 1271/1271 [00:01<00:00, 684.58it/s]\n",
      "Evaluating Disgust: 100%|██████████| 1271/1271 [00:01<00:00, 691.76it/s]"
     ]
    },
    {
     "name": "stdout",
     "output_type": "stream",
     "text": [
      "Evaluation complete.\n",
      "Accuracy: 0.41\n",
      "Confusion Matrix:\n",
      "[[319 123 202 150 402  75]\n",
      " [ 26 789  97 183  44 132]\n",
      " [ 91 372 349  99 277  83]\n",
      " [ 90 278 112 346  73 188]\n",
      " [129  14  76  47 949  56]\n",
      " [134 293 171 180 224 269]]\n"
     ]
    },
    {
     "name": "stderr",
     "output_type": "stream",
     "text": [
      "\n"
     ]
    }
   ],
   "source": [
    "train_accuracy, train_cm, _, _, _ =evaluate_models(hmm_models, train_features, train_files)\n",
    "print(f\"Accuracy: {train_accuracy:.2f}\")\n",
    "print(\"Confusion Matrix:\")\n",
    "print(train_cm)"
   ]
  }
 ],
 "metadata": {
  "kernelspec": {
   "display_name": "csc413",
   "language": "python",
   "name": "python3"
  },
  "language_info": {
   "codemirror_mode": {
    "name": "ipython",
    "version": 3
   },
   "file_extension": ".py",
   "mimetype": "text/x-python",
   "name": "python",
   "nbconvert_exporter": "python",
   "pygments_lexer": "ipython3",
   "version": "3.8.0"
  }
 },
 "nbformat": 4,
 "nbformat_minor": 2
}
